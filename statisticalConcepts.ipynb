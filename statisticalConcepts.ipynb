{
  "nbformat": 4,
  "nbformat_minor": 0,
  "metadata": {
    "colab": {
      "name": "statisticalConcepts.ipynb",
      "provenance": [],
      "collapsed_sections": []
    },
    "kernelspec": {
      "name": "python3",
      "display_name": "Python 3"
    },
    "language_info": {
      "name": "python"
    }
  },
  "cells": [
    {
      "cell_type": "markdown",
      "source": [
        "Measures of Central Tendency\n",
        "\n",
        "Three averages: Mean, Median and Mode"
      ],
      "metadata": {
        "id": "9widilProPbS"
      }
    },
    {
      "cell_type": "code",
      "execution_count": null,
      "metadata": {
        "id": "HNZAbnwQnIMj"
      },
      "outputs": [],
      "source": [
        "import statistics\n",
        "\n",
        "nums = [9, 4, 6, 6, 5, 2, 10, 12, 1]\n"
      ]
    },
    {
      "cell_type": "code",
      "source": [
        "mean = statistics.mean(nums)"
      ],
      "metadata": {
        "id": "8tzuNzeGnnLB"
      },
      "execution_count": null,
      "outputs": []
    },
    {
      "cell_type": "code",
      "source": [
        "mean"
      ],
      "metadata": {
        "colab": {
          "base_uri": "https://localhost:8080/"
        },
        "id": "Xk0bRF0Yn0so",
        "outputId": "c13ee1d4-d3b3-4b6d-bf31-fc5a74aaa52b"
      },
      "execution_count": null,
      "outputs": [
        {
          "output_type": "execute_result",
          "data": {
            "text/plain": [
              "6.111111111111111"
            ]
          },
          "metadata": {},
          "execution_count": 7
        }
      ]
    },
    {
      "cell_type": "code",
      "source": [
        "median = statistics.median(nums)"
      ],
      "metadata": {
        "id": "7MB-Wbp3n5mY"
      },
      "execution_count": null,
      "outputs": []
    },
    {
      "cell_type": "code",
      "source": [
        "median"
      ],
      "metadata": {
        "colab": {
          "base_uri": "https://localhost:8080/"
        },
        "id": "3tEKeXDaoJLE",
        "outputId": "a60175be-729c-42ac-8bc6-e0ae92a4a57a"
      },
      "execution_count": null,
      "outputs": [
        {
          "output_type": "execute_result",
          "data": {
            "text/plain": [
              "6"
            ]
          },
          "metadata": {},
          "execution_count": 9
        }
      ]
    },
    {
      "cell_type": "code",
      "source": [
        "mode=statistics.mode(nums)"
      ],
      "metadata": {
        "id": "2VzhWlm3oKjz"
      },
      "execution_count": null,
      "outputs": []
    },
    {
      "cell_type": "code",
      "source": [
        "mode"
      ],
      "metadata": {
        "colab": {
          "base_uri": "https://localhost:8080/"
        },
        "id": "VZjBnKypoieu",
        "outputId": "242631f5-2f11-4529-919d-a25f698d6eaf"
      },
      "execution_count": null,
      "outputs": [
        {
          "output_type": "execute_result",
          "data": {
            "text/plain": [
              "6"
            ]
          },
          "metadata": {},
          "execution_count": 11
        }
      ]
    },
    {
      "cell_type": "code",
      "source": [
        "print(\"Mean:\",mean)\n",
        "print(\"Median:\",median)\n",
        "print(\"Mode:\",mode)"
      ],
      "metadata": {
        "colab": {
          "base_uri": "https://localhost:8080/"
        },
        "id": "btTS5LeKo3JF",
        "outputId": "07f33968-f8c2-43b7-b4ab-167911619531"
      },
      "execution_count": null,
      "outputs": [
        {
          "output_type": "stream",
          "name": "stdout",
          "text": [
            "Mean: 6.111111111111111\n",
            "Median: 6\n",
            "Mode: 6\n"
          ]
        }
      ]
    },
    {
      "cell_type": "markdown",
      "source": [
        "Central Limit Theorem Example"
      ],
      "metadata": {
        "id": "ISQ_xnC6om6I"
      }
    },
    {
      "cell_type": "code",
      "source": [
        "#import libraries\n",
        "import numpy as np\n",
        "import matplotlib.pyplot as plt"
      ],
      "metadata": {
        "id": "bcpI57TPojAM"
      },
      "execution_count": null,
      "outputs": []
    },
    {
      "cell_type": "code",
      "source": [
        "#number of sample\n",
        "s_size=[1,10,50,100]\n",
        "#list of sample means\n",
        "means=[]"
      ],
      "metadata": {
        "id": "WZ7aAcr5qcCC"
      },
      "execution_count": null,
      "outputs": []
    },
    {
      "cell_type": "code",
      "source": [
        "#Generating random numbers from -50 to 50 of different sample sizes\n",
        "#take each mean and appending to list means\n",
        "for i in s_size:\n",
        "  #Generate seed to get same result\n",
        "  np.random.seed(1)\n",
        "  x=[np.mean(np.random.randint(-100,100,i)) for j in range(1000)]\n",
        "  means.append(x)"
      ],
      "metadata": {
        "id": "S31utWImqrp8"
      },
      "execution_count": null,
      "outputs": []
    },
    {
      "cell_type": "code",
      "source": [
        "k=0 \n",
        "#plot all the means in one figure\n",
        "fig,ax=plt.subplots(2,2,figsize=(8,8))\n",
        "for i in range(0,2):\n",
        "  for j in range(0,2):\n",
        "    ax[i, j].hist(means[k], 10, density = True)\n",
        "    ax[i, j].set_title(label = s_size[k])\n",
        "    k = k + 1\n",
        "plt.show()"
      ],
      "metadata": {
        "colab": {
          "base_uri": "https://localhost:8080/",
          "height": 498
        },
        "id": "uGGEXMd7rVxc",
        "outputId": "61185e53-3d02-45c4-f92e-e14e138fd777"
      },
      "execution_count": null,
      "outputs": [
        {
          "output_type": "display_data",
          "data": {
            "image/png": "[encoded data removed]",
            "text/plain": [
              "<Figure size 576x576 with 4 Axes>"
            ]
          },
          "metadata": {
            "needs_background": "light"
          }
        }
      ]
    },
    {
      "cell_type": "markdown",
      "source": [
        "Normal Distribution over Histogram"
      ],
      "metadata": {
        "id": "ksmOBFkZko4_"
      }
    },
    {
      "cell_type": "code",
      "source": [
        "import numpy as np\n",
        "from scipy.stats import norm\n",
        "import matplotlib.pyplot as plt"
      ],
      "metadata": {
        "id": "t_fT5CKukhOg"
      },
      "execution_count": null,
      "outputs": []
    },
    {
      "cell_type": "code",
      "source": [
        "#Generate some data for this demo\n",
        "data = np.random.normal(170, 10, 250)\n",
        "  \n",
        "# Fit a normal distribution to the data, mean and standard deviation\n",
        "mu, std = norm.fit(data) \n",
        "  \n",
        "# Plot the histogram.\n",
        "plt.hist(data, bins=25, density=True, alpha=0.6, color='b')\n",
        "  \n",
        "# Plot the PDF.\n",
        "xmin, xmax = plt.xlim()\n",
        "x = np.linspace(xmin, xmax, 100)\n",
        "p = norm.pdf(x, mu, std)\n",
        "  \n",
        "plt.plot(x, p, 'k', linewidth=2)\n",
        "title = \"Fit Values: {:.2f} and {:.2f}\".format(mu, std)\n",
        "plt.title(title)\n",
        "  \n",
        "plt.show()"
      ],
      "metadata": {
        "colab": {
          "base_uri": "https://localhost:8080/",
          "height": 281
        },
        "id": "9DlwCwMIklQQ",
        "outputId": "006417fb-4dd3-4fd9-b7f0-a74798171797"
      },
      "execution_count": null,
      "outputs": [
        {
          "output_type": "display_data",
          "data": {
            "image/png": "[encoded data removed]",
            "text/plain": [
              "<Figure size 432x288 with 1 Axes>"
            ]
          },
          "metadata": {
            "needs_background": "light"
          }
        }
      ]
    },
    {
      "cell_type": "code",
      "source": [
        ""
      ],
      "metadata": {
        "id": "CmqB02DJlBFV"
      },
      "execution_count": null,
      "outputs": []
    }
  ]
}